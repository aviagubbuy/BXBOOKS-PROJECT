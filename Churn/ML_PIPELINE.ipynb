{
 "cells": [
  {
   "cell_type": "code",
   "execution_count": 3,
   "id": "6fcac2f6-e8ca-41eb-8820-b56e9e69bbfe",
   "metadata": {},
   "outputs": [],
   "source": [
    "%matplotlib inline\n",
    "import pandas as pd\n",
    "import matplotlib.pyplot as plt\n",
    "import seaborn as sns\n",
    "\n",
    "churn1 = pd.read_csv('churn_manipulate_data_for_ML.csv')"
   ]
  },
  {
   "cell_type": "code",
   "execution_count": 4,
   "id": "659db1a9-3916-409b-a08f-b5016a30b5c7",
   "metadata": {},
   "outputs": [],
   "source": [
    "# Importing the library\n",
    "\n",
    "from sklearn import preprocessing\n",
    "\n",
    "# Train and split the data\n",
    "from sklearn.model_selection import train_test_split\n",
    "test_size = 0.2\n",
    "train, test = train_test_split(churn1, test_size=0.2, random_state=0, shuffle=True)\n",
    "#test = test.values.ravel()\n",
    "label = 'churn'\n",
    "\n",
    "x_train = train.drop(label, axis=1)\n",
    "#x_train = preprocessing.normalize(x_train, norm='l2')\n",
    "y_train = train[label]\n",
    "\n",
    "x_test = test.drop(label, axis=1)\n",
    "#x_test = preprocessing.normalize(x_test, norm='l2')\n",
    "y_test = test[label]\n"
   ]
  },
  {
   "cell_type": "code",
   "execution_count": 5,
   "id": "3b5a443f-9873-4e29-81cc-20e6e3894cda",
   "metadata": {},
   "outputs": [],
   "source": [
    "# ML Pipline\n",
    "from sklearn.linear_model import LogisticRegression\n",
    "from sklearn.tree import DecisionTreeClassifier\n",
    "from sklearn.ensemble import RandomForestClassifier\n",
    "from sklearn.svm import SVC\n",
    "from sklearn.neighbors import KNeighborsClassifier\n",
    "from sklearn.naive_bayes import GaussianNB\n",
    "\n",
    "model_pipeline = []\n",
    "model_pipeline.append(LogisticRegression(solver='liblinear'))\n",
    "model_pipeline.append(DecisionTreeClassifier())\n",
    "model_pipeline.append(RandomForestClassifier())\n",
    "model_pipeline.append(SVC())\n",
    "model_pipeline.append(KNeighborsClassifier())\n",
    "model_pipeline.append(GaussianNB())\n"
   ]
  },
  {
   "cell_type": "code",
   "execution_count": 6,
   "id": "497ceadd-1f46-49e1-9ebd-2301c96c3c4f",
   "metadata": {},
   "outputs": [],
   "source": [
    "from sklearn import metrics\n",
    "from sklearn.metrics import classification_report\n",
    "from sklearn.metrics import confusion_matrix\n",
    "\n",
    "model_list = ['LogisticRegression', 'DecisionTreeClassifier', 'RandomForestClassifier', 'SVC', 'KNeighborsClassifier', 'GaussianNB']\n",
    "acc_list = []\n",
    "auc_list = []\n",
    "cm_list = []\n",
    "\n",
    "for model in model_pipeline:\n",
    "    model.fit(x_train,y_train)\n",
    "    y_pred = model.predict(x_test)\n",
    "    acc_list.append(metrics.accuracy_score(y_test,y_pred))\n",
    "    (fpr, tpr,_thresholds) = metrics.roc_curve(y_test, y_pred)\n",
    "    auc_list.append(round(metrics.auc(fpr,tpr),2))\n",
    "    cm_list.append(metrics.confusion_matrix(y_test,y_pred))"
   ]
  },
  {
   "cell_type": "code",
   "execution_count": 8,
   "id": "4b7f7fb4-d352-4e21-981f-d7d3f934bb41",
   "metadata": {},
   "outputs": [
    {
     "data": {
      "text/html": [
       "<div>\n",
       "<style scoped>\n",
       "    .dataframe tbody tr th:only-of-type {\n",
       "        vertical-align: middle;\n",
       "    }\n",
       "\n",
       "    .dataframe tbody tr th {\n",
       "        vertical-align: top;\n",
       "    }\n",
       "\n",
       "    .dataframe thead th {\n",
       "        text-align: right;\n",
       "    }\n",
       "</style>\n",
       "<table border=\"1\" class=\"dataframe\">\n",
       "  <thead>\n",
       "    <tr style=\"text-align: right;\">\n",
       "      <th></th>\n",
       "      <th>Model</th>\n",
       "      <th>Accuracy</th>\n",
       "      <th>AUC</th>\n",
       "    </tr>\n",
       "  </thead>\n",
       "  <tbody>\n",
       "    <tr>\n",
       "      <th>0</th>\n",
       "      <td>LogisticRegression</td>\n",
       "      <td>0.803127</td>\n",
       "      <td>0.71</td>\n",
       "    </tr>\n",
       "    <tr>\n",
       "      <th>1</th>\n",
       "      <td>DecisionTreeClassifier</td>\n",
       "      <td>0.739872</td>\n",
       "      <td>0.67</td>\n",
       "    </tr>\n",
       "    <tr>\n",
       "      <th>2</th>\n",
       "      <td>RandomForestClassifier</td>\n",
       "      <td>0.791756</td>\n",
       "      <td>0.69</td>\n",
       "    </tr>\n",
       "    <tr>\n",
       "      <th>3</th>\n",
       "      <td>SVC</td>\n",
       "      <td>0.737740</td>\n",
       "      <td>0.50</td>\n",
       "    </tr>\n",
       "    <tr>\n",
       "      <th>4</th>\n",
       "      <td>KNeighborsClassifier</td>\n",
       "      <td>0.713575</td>\n",
       "      <td>0.56</td>\n",
       "    </tr>\n",
       "    <tr>\n",
       "      <th>5</th>\n",
       "      <td>GaussianNB</td>\n",
       "      <td>0.708600</td>\n",
       "      <td>0.75</td>\n",
       "    </tr>\n",
       "  </tbody>\n",
       "</table>\n",
       "</div>"
      ],
      "text/plain": [
       "                    Model  Accuracy   AUC\n",
       "0      LogisticRegression  0.803127  0.71\n",
       "1  DecisionTreeClassifier  0.739872  0.67\n",
       "2  RandomForestClassifier  0.791756  0.69\n",
       "3                     SVC  0.737740  0.50\n",
       "4    KNeighborsClassifier  0.713575  0.56\n",
       "5              GaussianNB  0.708600  0.75"
      ]
     },
     "execution_count": 8,
     "metadata": {},
     "output_type": "execute_result"
    }
   ],
   "source": [
    "## accuracy & AUC\n",
    "result_df = pd.DataFrame({'Model':model_list, 'Accuracy':acc_list,'AUC':auc_list})\n",
    "(result_df)"
   ]
  }
 ],
 "metadata": {
  "kernelspec": {
   "display_name": "Python 3 (ipykernel)",
   "language": "python",
   "name": "python3"
  },
  "language_info": {
   "codemirror_mode": {
    "name": "ipython",
    "version": 3
   },
   "file_extension": ".py",
   "mimetype": "text/x-python",
   "name": "python",
   "nbconvert_exporter": "python",
   "pygments_lexer": "ipython3",
   "version": "3.8.8"
  }
 },
 "nbformat": 4,
 "nbformat_minor": 5
}
