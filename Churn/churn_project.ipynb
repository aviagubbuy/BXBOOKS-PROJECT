{
 "cells": [
  {
   "cell_type": "code",
   "execution_count": null,
   "id": "5e254005-6ceb-4226-89eb-50400fc3c768",
   "metadata": {},
   "outputs": [],
   "source": [
    "%matplotlib inline\n",
    "import pandas as pd\n",
    "import matplotlib.pyplot as plt\n",
    "import seaborn as sns\n",
    "\n",
    "churn = pd.read_csv('churn.csv')"
   ]
  },
  {
   "cell_type": "code",
   "execution_count": null,
   "id": "176c59f1-dd58-4309-980a-aeabc5df7931",
   "metadata": {},
   "outputs": [],
   "source": [
    "### create the categorical variables called \"tenureGroup\"\n",
    "churn['tenuregroup'] = None\n",
    "\n",
    "# Insert values to each line as above\n",
    "# '0-1'\n",
    "# '2-12'\n",
    "# ...\n",
    "churn.loc[(churn['tenure'] <= 1),'tenuregroup'] = '0-1'\n",
    "churn.loc[(churn['tenure'] >=2.) & (churn['tenure'] < 13),'tenuregroup'] = '2-12'\n",
    "churn.loc[(churn['tenure'] >=13.) & (churn['tenure'] < 25),'tenuregroup'] = '13-24'\n",
    "churn.loc[(churn['tenure'] >=25.) & (churn['tenure'] < 49),'tenuregroup'] = '25-48'\n",
    "churn.loc[(churn['tenure'] >= 49.),'tenuregroup'] = '49_'\n"
   ]
  },
  {
   "cell_type": "code",
   "execution_count": null,
   "id": "9ffd70cc-7d68-4d59-b57e-febb0a4a1fe6",
   "metadata": {},
   "outputs": [],
   "source": [
    "#churn.info()"
   ]
  },
  {
   "cell_type": "code",
   "execution_count": null,
   "id": "8bc118b0-6c8c-4b38-9b5f-564ef05e13b7",
   "metadata": {},
   "outputs": [],
   "source": [
    "churn = churn.rename(columns=str.lower)\n",
    " "
   ]
  },
  {
   "cell_type": "code",
   "execution_count": null,
   "id": "b081fd9a-8d76-4cdd-987d-7e3d29ef59a3",
   "metadata": {},
   "outputs": [],
   "source": [
    "churn = churn.drop(['customerid'], axis =1)\n",
    "temp_cols = pd.DataFrame()\n",
    "temp_cols = churn.filter([\"monthlycharges\",\"totalcharges\",\"churn\"], axis =1)\n",
    "#temp_cols =churn[[\"monthlycharges\",\"totalcharges\",\"churn\"]].copy()"
   ]
  },
  {
   "cell_type": "code",
   "execution_count": null,
   "id": "bdf0ea4c-fdcf-4d55-89eb-c73141c585e2",
   "metadata": {},
   "outputs": [],
   "source": [
    "temp_cols.totalcharges  = pd.to_numeric(temp_cols.totalcharges, errors = 'coerce')\n",
    "churn = churn.drop(['monthlycharges','totalcharges','churn'],axis =1)\n",
    "churn = pd.get_dummies(churn)\n",
    "churn = churn.astype('float')\n"
   ]
  },
  {
   "cell_type": "code",
   "execution_count": null,
   "id": "c5d0573b-60dc-40fa-b27b-faee21dc44c8",
   "metadata": {},
   "outputs": [],
   "source": [
    "churn = churn.join(temp_cols)\n"
   ]
  },
  {
   "cell_type": "code",
   "execution_count": null,
   "id": "00572b55-7626-4e4e-af5d-d063e0abd437",
   "metadata": {},
   "outputs": [],
   "source": [
    "churn.churn  = churn.churn.map(dict(Yes=1, No =0)).astype(int)\n"
   ]
  },
  {
   "cell_type": "code",
   "execution_count": null,
   "id": "d159049e-ef92-426f-9575-318391cf47bc",
   "metadata": {},
   "outputs": [],
   "source": [
    "is_NaN = churn.isnull()\n",
    "row_has_NaN = is_NaN.any(axis=1)\n",
    "rows_with_NaN = churn [row_has_NaN]"
   ]
  },
  {
   "cell_type": "code",
   "execution_count": null,
   "id": "6aed29f5-044b-4520-87ff-f4b2a3f6fc89",
   "metadata": {},
   "outputs": [],
   "source": [
    "churn = churn.dropna()\n",
    "#churn.info()"
   ]
  },
  {
   "cell_type": "code",
   "execution_count": null,
   "id": "37eeeb99-ea1c-4ae7-b808-46e2ba42e0c0",
   "metadata": {},
   "outputs": [],
   "source": [
    "churn.rename(columns=lambda s: s.replace(\"-\", \"_\"), inplace=True)\n",
    "churn.rename(columns=lambda s: s.replace(\" \", \"_\"), inplace=True)"
   ]
  },
  {
   "cell_type": "code",
   "execution_count": null,
   "id": "fab5ada9-921d-4107-85e1-5c345d6daf2e",
   "metadata": {},
   "outputs": [],
   "source": [
    "churn.to_csv('churn_manipulate_data_for_ML.csv')"
   ]
  },
  {
   "cell_type": "code",
   "execution_count": null,
   "id": "93aab244-4ad6-4c50-93dc-e8c029d9d4b8",
   "metadata": {},
   "outputs": [],
   "source": [
    "cdf = pd.DataFrame()\n",
    "cfd=churn.corr().sort_index()\n",
    "cfd.iloc[0].sort_values()"
   ]
  },
  {
   "cell_type": "code",
   "execution_count": null,
   "id": "64303a7e-2e71-4e97-9c0b-a390529008dc",
   "metadata": {},
   "outputs": [],
   "source": [
    "# Import seaborn\n",
    "import seaborn as sns\n",
    "# Apply the default theme\n",
    "sns.set_theme()"
   ]
  },
  {
   "cell_type": "code",
   "execution_count": null,
   "id": "15260689-4a9a-4dd1-8391-c829257882f3",
   "metadata": {},
   "outputs": [],
   "source": [
    "sns.scatterplot( data= churn,x=\"tenure\", y= \"totalcharges\")"
   ]
  },
  {
   "cell_type": "code",
   "execution_count": null,
   "id": "b95fc3f7-fa5a-40c5-9c1a-44a37a29784e",
   "metadata": {},
   "outputs": [],
   "source": [
    "sns.scatterplot( data= churn,x=\"tenure\", y= \"monthlycharges\")"
   ]
  },
  {
   "cell_type": "code",
   "execution_count": null,
   "id": "dab9f699",
   "metadata": {},
   "outputs": [],
   "source": [
    "sns.relplot (data = churn, x= \"monthlycharges\" ,y = \"tenure\" ,hue= \"churn\")"
   ]
  },
  {
   "cell_type": "code",
   "execution_count": null,
   "id": "9d44ef23-bca7-47a1-b412-858400b7a8a6",
   "metadata": {},
   "outputs": [],
   "source": [
    "TenureGroup13_=(churn.groupby(\"churn\").tenuregroup_13_24.sum()+ churn.groupby(\"churn\").tenuregroup_25_48.sum()+churn.groupby(\"churn\").tenuregroup_49_.sum())[1]/churn.churn.value_counts()[1]\n",
    "\n",
    "TenureGroup=(churn.groupby(\"churn\").tenuregroup_0_1.sum()+ churn.groupby(\"churn\").tenuregroup_2_12.sum())[1]/churn.churn.value_counts()[1]\n",
    "\n",
    "contract_Month=churn.groupby(\"churn\").contract_Month_to_month.sum()[1]/churn.churn.value_counts()[1]\n",
    "\n",
    "techsupport_No=churn.groupby(\"churn\").techsupport_No.sum()[1]/churn.churn.value_counts()[1]\n",
    "\n",
    "onlinesecurity_No=churn.groupby(\"churn\").onlinesecurity_No.sum()[1]/churn.churn.value_counts()[1]\n",
    "\n",
    "internetservice_Fiber_optic=churn.groupby(\"churn\").internetservice_Fiber_optic.sum()[1]/churn.churn.value_counts()[1]\n",
    "\n",
    "internetservice_DSL=churn.groupby(\"churn\").internetservice_DSL.sum()[1]/churn.churn.value_counts()[1]\n",
    "\n",
    "partner_No=churn.groupby(\"churn\").partner_No.sum()[1]/churn.churn.value_counts()[1]\n",
    "\n",
    "dependents_No=churn.groupby(\"churn\").dependents_No.sum()[1]/churn.churn.value_counts()[1]\n",
    "\n",
    "seniorcitizen=churn.groupby(\"churn\").seniorcitizen.sum()[1]/churn.churn.value_counts()[1]\n",
    "\n",
    "paymentmethod_Electronic_check=churn.groupby(\"churn\").paymentmethod_Electronic_check.sum()[1]/churn.churn.value_counts()[1]\n",
    "\n",
    "paperlessbilling_Yes=churn.groupby(\"churn\").paperlessbilling_Yes.sum()[1]/churn.churn.value_counts()[1]"
   ]
  },
  {
   "cell_type": "code",
   "execution_count": null,
   "id": "acba2934-143e-44b3-9bf6-6d29cd53d1a5",
   "metadata": {},
   "outputs": [],
   "source": [
    "#(churn.groupby(\"churn\").tenuregroup_13_24.sum()+ churn.groupby(\"churn\").tenuregroup_25_48.sum()+churn.groupby(\"churn\").tenuregroup_49_.sum())[1]/churn.churn.value_counts()[1]\n",
    "TenureGroup13_"
   ]
  },
  {
   "cell_type": "code",
   "execution_count": null,
   "id": "9dc00a96-d975-458d-bb72-132668a0439c",
   "metadata": {},
   "outputs": [],
   "source": [
    "churn_percent_tenure = pd.DataFrame({'First Year Churn':TenureGroup,'Year 2-7 Churn':TenureGroup13_},index=[0])\n",
    "\n",
    "axt = sns.catplot(data = churn_percent_tenure , kind=\"bar\",\n",
    "    ci=\"sd\", palette=\"dark\", alpha=.9, height=7 )\n",
    "axt.set(ylabel='Percent of Churn',\n",
    "      title ='Common Characteristics of Churn by tenure')\n",
    "ax = axt.facet_axis(0,0)\n",
    "for p in ax.patches:\n",
    "    ax.text(p.get_x() + 0.3, \n",
    "            p.get_height() * 1.01, \n",
    "            '{0:.2f}'.format(p.get_height()), \n",
    "            color='black', rotation='horizontal', size='large')\n",
    "plt.show()"
   ]
  },
  {
   "cell_type": "code",
   "execution_count": null,
   "id": "c558902a-9c70-4268-ab9a-1040b5d63e62",
   "metadata": {},
   "outputs": [],
   "source": [
    "# ploting common characteristics of churn by demographic\n",
    "churn_percent_demographic_df = pd.DataFrame({'No partner':partner_No, 'No Dependents':dependents_No,'Seniorcitizen':seniorcitizen},index=[0])\n",
    "\n",
    "axx = sns.catplot(data = churn_percent_demographic_df , kind=\"bar\",\n",
    "    ci=\"sd\", palette=\"dark\", alpha=.9, height=7 )\n",
    "axx.set(ylabel='Percent of Churn',\n",
    "      title ='Common Characteristics of Churn by Demographic')\n",
    "ax = axx.facet_axis(0,0)\n",
    "for p in ax.patches:\n",
    "    ax.text(p.get_x() + 0.3, \n",
    "            p.get_height() * 1.01, \n",
    "            '{0:.2f}'.format(p.get_height()), \n",
    "            color='black', rotation='horizontal', size='large')\n",
    "plt.show()"
   ]
  },
  {
   "cell_type": "code",
   "execution_count": null,
   "id": "5d184a93-0b84-451a-94c3-e54f734c8ace",
   "metadata": {},
   "outputs": [],
   "source": [
    "churn_percent_kind_of_connction = pd.DataFrame({'Fiber':internetservice_Fiber_optic, 'DSL':internetservice_DSL},index=[0])\n",
    "axxx = sns.catplot(data = churn_percent_kind_of_connction , kind=\"bar\",\n",
    "    ci=\"sd\", palette=\"dark\", alpha=.9, height=7 )\n",
    "axxx.set(ylabel='Percent of Churn',\n",
    "      title ='Common Characteristics of Churn by Kind of Internet Connection')\n",
    "ax = axxx.facet_axis(0,0)\n",
    "for p in ax.patches:\n",
    "    ax.text(p.get_x() + 0.3, \n",
    "            p.get_height() * 1.01, \n",
    "            '{0:.2f}'.format(p.get_height()), \n",
    "            color='black', rotation='horizontal', size='large')\n",
    "plt.show()"
   ]
  },
  {
   "cell_type": "code",
   "execution_count": null,
   "id": "aeb3f831-fbd3-4e5f-887c-2e95732063ff",
   "metadata": {},
   "outputs": [],
   "source": [
    "# ploting common characteristics of churn by kind of contract'\n",
    "churn_percent_df = pd.DataFrame({'One Month Contract Churn':contract_Month,'No Support Churn':techsupport_No,'No Online Security Churn':onlinesecurity_No},index=[0])\n",
    "ax = sns.catplot(data = churn_percent_df , kind=\"bar\",\n",
    "    ci=\"sd\", palette=\"dark\", alpha=.9, height=7 )\n",
    "ax.set(ylabel='Percent of Churn',\n",
    "      title ='Common Characteristics of Churn by Kind of Contract')\n",
    "ax = ax.facet_axis(0,0)\n",
    "for p in ax.patches:\n",
    "    ax.text(p.get_x() + 0.3, \n",
    "            p.get_height() * 1.01, \n",
    "            '{0:.2f}'.format(p.get_height()), \n",
    "            color='black', rotation='horizontal', size='large')\n",
    "plt.show()"
   ]
  },
  {
   "cell_type": "code",
   "execution_count": null,
   "id": "6684b4c5-a515-4d38-acc4-ef1fd9a70e1e",
   "metadata": {},
   "outputs": [],
   "source": [
    "churn_percent_payment = pd.DataFrame({'Electronic Check Churn':paymentmethod_Electronic_check, 'Paperless Billing Churn':paperlessbilling_Yes},index=[0])\n",
    "\n",
    "axx = sns.catplot(data = churn_percent_payment , kind=\"bar\",\n",
    "    ci=\"sd\", palette=\"dark\", alpha=.9, height=7 )\n",
    "axx.set(ylabel='Percent of Churn',\n",
    "      title ='Common Characteristics of Churn by Payment Method ')\n",
    "ax = axx.facet_axis(0,0)\n",
    "for p in ax.patches:\n",
    "    ax.text(p.get_x() + 0.315, \n",
    "            p.get_height() * 1.01, \n",
    "            '{0:.2f}'.format(p.get_height()), \n",
    "            color='black', rotation='horizontal', size='large')\n",
    "plt.show()"
   ]
  },
  {
   "cell_type": "code",
   "execution_count": null,
   "id": "6cbeb7d4-9ea6-4e69-ba6a-b41151ec99ba",
   "metadata": {},
   "outputs": [],
   "source": [
    "TenureGroup13_1=(churn.tenuregroup_13_24.sum()+ churn.tenuregroup_25_48.sum()+churn.tenuregroup_49_.sum())/churn.shape[0]\n",
    "\n",
    "TenureGroup1=(churn.tenuregroup_0_1.sum()+ churn.tenuregroup_2_12.sum())/churn.shape[0]\n",
    "\n",
    "contract_Month1=churn.contract_Month_to_month.sum()/churn.shape[0]\n",
    "\n",
    "techsupport_No1=churn.techsupport_No.sum()/churn.shape[0]\n",
    "\n",
    "onlinesecurity_No1=churn.onlinesecurity_No.sum()/churn.shape[0]\n",
    "\n",
    "internetservice_Fiber_optic1=churn.internetservice_Fiber_optic.sum()/churn.shape[0]\n",
    "\n",
    "internetservice_DSL1=churn.internetservice_DSL.sum()/churn.shape[0]\n",
    "\n",
    "partner_No1=churn.partner_No.sum()/churn.shape[0]\n",
    "\n",
    "dependents_No1=churn.dependents_No.sum()/churn.shape[0]\n",
    "\n",
    "seniorcitizen1=churn.seniorcitizen.sum()/churn.shape[0]\n",
    "\n",
    "paymentmethod_Electronic_check1=churn.paymentmethod_Electronic_check.sum()/churn.shape[0]\n",
    "\n",
    "paperlessbilling_Yes1=churn.paperlessbilling_Yes.sum()/churn.shape[0]"
   ]
  },
  {
   "cell_type": "code",
   "execution_count": null,
   "id": "4ea7792c-e05e-4ab1-8572-31b0da3a4b0d",
   "metadata": {},
   "outputs": [],
   "source": [
    "churn.partner_No.sum()/churn.shape[0]"
   ]
  },
  {
   "cell_type": "code",
   "execution_count": null,
   "id": "2eb7e644-ce99-4d08-80c2-79accf8d8d8e",
   "metadata": {},
   "outputs": [],
   "source": [
    "tenure_percent = pd.DataFrame({'First Year Clients':TenureGroup1,'Year 2-7 Clients':TenureGroup13_1},index=[0])\n",
    "\n",
    "axt1 = sns.catplot(data = tenure_percent , kind=\"bar\",\n",
    "    ci=\"sd\", palette=\"dark\", alpha=.9, height=7 )\n",
    "axt1.set(ylabel='Percent of Clients',\n",
    "      title ='Common Characteristics of Clients by tenure')\n",
    "ax = axt1.facet_axis(0,0)\n",
    "for p in ax.patches:\n",
    "    ax.text(p.get_x() + 0.3, \n",
    "            p.get_height() * 1.01, \n",
    "            '{0:.2f}'.format(p.get_height()), \n",
    "            color='black', rotation='horizontal', size='large')\n",
    "plt.show()"
   ]
  },
  {
   "cell_type": "code",
   "execution_count": null,
   "id": "c9b68283-9e7f-4b96-8350-8e67371af22e",
   "metadata": {},
   "outputs": [],
   "source": [
    "clients_percent_df1 = pd.DataFrame({'One Month Contract':contract_Month1,'No Support':techsupport_No1,'No Online Security':onlinesecurity_No1},index =[0])\n",
    "ax1 = sns.catplot(data = clients_percent_df1 , kind=\"bar\",\n",
    "    ci=\"sd\", palette=\"dark\", alpha=.9, height=7 )\n",
    "ax1.set(ylabel='Percent of Clients',\n",
    "      title ='Common Characteristics of Clients by Kind of Contract')\n",
    "ax = ax1.facet_axis(0,0)\n",
    "for p in ax.patches:\n",
    "    ax.text(p.get_x() + 0.3, \n",
    "            p.get_height() * 1.01, \n",
    "            '{0:.2f}'.format(p.get_height()), \n",
    "            color='black', rotation='horizontal', size='large')\n",
    "plt.show()"
   ]
  },
  {
   "cell_type": "code",
   "execution_count": null,
   "id": "da99be09-9dfd-4b83-ba9f-da019e058b3d",
   "metadata": {},
   "outputs": [],
   "source": []
  },
  {
   "cell_type": "code",
   "execution_count": null,
   "id": "58bf08dd-86a4-4098-8a4f-45dff2b0f0fc",
   "metadata": {},
   "outputs": [],
   "source": [
    "clients_percent_demographic_df1 = pd.DataFrame({'No partner':partner_No1, 'No Dependents':dependents_No1,'Senior Citizen':seniorcitizen1},index=[0])\n",
    "\n",
    "axx = sns.catplot(data = clients_percent_demographic_df1 , kind=\"bar\",\n",
    "    ci=\"sd\", palette=\"dark\", alpha=.9, height=7 )\n",
    "axx.set(ylabel='Percent of Clients',\n",
    "      title ='Common Characteristics of Clients by Demographic')\n",
    "ax = axx.facet_axis(0,0)\n",
    "for p in ax.patches:\n",
    "    ax.text(p.get_x() + 0.3, \n",
    "            p.get_height() * 1.01, \n",
    "            '{0:.2f}'.format(p.get_height()), \n",
    "            color='black', rotation='horizontal', size='large')\n",
    "plt.show()"
   ]
  },
  {
   "cell_type": "code",
   "execution_count": null,
   "id": "ba02b8c8-3d93-4d3f-80dd-05f33afb17cb",
   "metadata": {},
   "outputs": [],
   "source": [
    "clients_percent_kind_of_connction1 = pd.DataFrame({'Fiber':internetservice_Fiber_optic1, 'DSL':internetservice_DSL1},index=[0])\n",
    "axxx1 = sns.catplot(data = clients_percent_kind_of_connction1 , kind=\"bar\",\n",
    "    ci=\"sd\", palette=\"dark\", alpha=.9, height=7 )\n",
    "axxx1.set(ylabel='Percent of Clients',\n",
    "      title ='Common Characteristics of Clients by Kind of Internet Connection')\n",
    "ax = axxx1.facet_axis(0,0)\n",
    "for p in ax.patches:\n",
    "    ax.text(p.get_x() + 0.3, \n",
    "            p.get_height() * 1.01, \n",
    "            '{0:.2f}'.format(p.get_height()), \n",
    "            color='black', rotation='horizontal', size='large')\n",
    "plt.show()"
   ]
  },
  {
   "cell_type": "code",
   "execution_count": null,
   "id": "ad8d6dda-26b3-4c34-9d62-0bcab78d3d8c",
   "metadata": {},
   "outputs": [],
   "source": [
    "churn_percent_payment1 = pd.DataFrame({'Electronic Check':paymentmethod_Electronic_check1, 'Paperless Billing':paperlessbilling_Yes1},index=[0])\n",
    "\n",
    "axx = sns.catplot(data = churn_percent_payment1 , kind=\"bar\",\n",
    "    ci=\"sd\", palette=\"dark\", alpha=.9, height=7 )\n",
    "axx.set(ylabel='Percent of Clients',\n",
    "      title ='Common Characteristics of Clients by Payment Method ')\n",
    "ax = axx.facet_axis(0,0)\n",
    "for p in ax.patches:\n",
    "    ax.text(p.get_x() + 0.3, \n",
    "            p.get_height() * 1.01, \n",
    "            '{0:.2f}'.format(p.get_height()), \n",
    "            color='black', rotation='horizontal', size='large')\n",
    "plt.show()"
   ]
  },
  {
   "cell_type": "code",
   "execution_count": null,
   "id": "bc6385da-44b9-415b-9ed7-7e792882dbe7",
   "metadata": {},
   "outputs": [],
   "source": [
    "sns.displot(data = churn, x=\"monthlycharges\", col = \"churn\", kde = True, bins= 10)"
   ]
  }
 ],
 "metadata": {
  "kernelspec": {
   "display_name": "Python 3 (ipykernel)",
   "language": "python",
   "name": "python3"
  },
  "language_info": {
   "codemirror_mode": {
    "name": "ipython",
    "version": 3
   },
   "file_extension": ".py",
   "mimetype": "text/x-python",
   "name": "python",
   "nbconvert_exporter": "python",
   "pygments_lexer": "ipython3",
   "version": "3.8.8"
  }
 },
 "nbformat": 4,
 "nbformat_minor": 5
}
