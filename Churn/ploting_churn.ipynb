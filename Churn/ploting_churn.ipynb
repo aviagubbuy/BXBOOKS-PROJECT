{
 "cells": [
  {
   "cell_type": "code",
   "execution_count": null,
   "id": "03e3d3c0-75be-423e-892e-6aba147ec33b",
   "metadata": {},
   "outputs": [],
   "source": [
    "import pandas as pd\n",
    "import seaborn as sns\n",
    "import matplotlib.pyplot as plt\n",
    "import numpy as np\n",
    "from pandas.api.types import is_string_dtype, is_numeric_dtype\n",
    "\n",
    "df = pd.read_csv('churn.csv')"
   ]
  },
  {
   "cell_type": "code",
   "execution_count": null,
   "id": "02568c2d-a06d-4a3c-9d98-8e6e646fd0d3",
   "metadata": {},
   "outputs": [],
   "source": [
    "### 1. Know Your Data ###\n",
    "df.info()\n",
    "df.describe()"
   ]
  },
  {
   "cell_type": "code",
   "execution_count": null,
   "id": "429c0a80-d900-43c3-a06d-054915f562cc",
   "metadata": {},
   "outputs": [],
   "source": [
    "df.TotalCharges = pd.to_numeric(df.TotalCharges,errors='coerce')"
   ]
  },
  {
   "cell_type": "code",
   "execution_count": null,
   "id": "1bc67388",
   "metadata": {},
   "outputs": [],
   "source": [
    "is_NaN = df.isnull()\n",
    "row_has_NaN = is_NaN.any(axis=1)\n",
    "rows_with_NaN = df[row_has_NaN]\n",
    "df = df.dropna()\n",
    "df.info()"
   ]
  },
  {
   "cell_type": "code",
   "execution_count": null,
   "id": "e185a64f-c356-4f28-8463-b21fbab0238b",
   "metadata": {},
   "outputs": [],
   "source": [
    "# missing values #\n",
    "missing_count = df.isnull().sum() # the count of missing values\n",
    "value_count = df.isnull().count() # the count of all values \n",
    "missing_percentage = round(missing_count / value_count * 100,2) #the percentage of missing values\n",
    "missing_df = pd.DataFrame({'count': missing_count, 'percentage': missing_percentage}) #create a dataframe\n",
    "#print(missing_df)"
   ]
  },
  {
   "cell_type": "code",
   "execution_count": null,
   "id": "e8d1d378-e367-458a-ad63-12c0defb07ed",
   "metadata": {},
   "outputs": [],
   "source": [
    "df =df.drop(['customerID'], axis =1)"
   ]
  },
  {
   "cell_type": "code",
   "execution_count": null,
   "id": "ad031361",
   "metadata": {},
   "outputs": [],
   "source": [
    "### create the categorical variables called \"tenureGroup\"\n",
    "df['tenuregroup'] = None\n",
    "# Insert values to each line as above\n",
    "# '0-1'\n",
    "# '2-12'\n",
    "# ...\n",
    "df.loc[(df['tenure'] <= 1),'tenuregroup'] = '0-1'\n",
    "df.loc[(df['tenure'] >=2.) & (df['tenure'] < 13),'tenuregroup'] = '2-12'\n",
    "df.loc[(df['tenure'] >=13.) & (df['tenure'] < 25),'tenuregroup'] = '13-24'\n",
    "df.loc[(df['tenure'] >=25.) & (df['tenure'] < 49),'tenuregroup'] = '25-48'\n",
    "df.loc[(df['tenure'] >= 49.),'tenuregroup'] = '49_'\n"
   ]
  },
  {
   "cell_type": "code",
   "execution_count": null,
   "id": "399b61d9",
   "metadata": {},
   "outputs": [],
   "source": [
    "#reorganize columns\n",
    "df = df.reindex(columns=['gender', 'SeniorCitizen', 'Partner', 'Dependents', 'tenure',\n",
    "       'PhoneService', 'MultipleLines', 'InternetService', 'OnlineSecurity',\n",
    "       'OnlineBackup', 'DeviceProtection', 'TechSupport', 'StreamingTV',\n",
    "       'StreamingMovies', 'Contract', 'PaperlessBilling', 'PaymentMethod',\n",
    "       'MonthlyCharges', 'TotalCharges', 'tenuregroup', 'Churn'])"
   ]
  },
  {
   "cell_type": "code",
   "execution_count": null,
   "id": "cf4590b3-7969-4bd5-9559-3c51fc982ead",
   "metadata": {},
   "outputs": [],
   "source": [
    "# populate the list of numeric attributes and categorical attributes\n",
    "num_list = []\n",
    "cat_list = []\n",
    "\n",
    "for column in df:\n",
    "    if is_numeric_dtype(df[column]):\n",
    "        num_list.append(column)\n",
    "    elif is_string_dtype(df[column]):\n",
    "        cat_list.append(column)    \n",
    "\n",
    "print(num_list)\n",
    "print(cat_list)"
   ]
  },
  {
   "cell_type": "code",
   "execution_count": null,
   "id": "de98699f-04e4-4d17-954b-158d38c8c476",
   "metadata": {},
   "outputs": [],
   "source": [
    "df.corr()"
   ]
  },
  {
   "cell_type": "code",
   "execution_count": null,
   "id": "e92a5679-2511-4ba2-9930-9d3b7047a03d",
   "metadata": {},
   "outputs": [],
   "source": [
    "### 3. Univaraite Analysis ###\n",
    "\n",
    "# bar chart and histogram\n",
    "for column in df:\n",
    "    plt.figure(column, figsize = (15,4.9))\n",
    "    plt.title(column)\n",
    "    plt.yticks(size =12)\n",
    "    if is_numeric_dtype(df[column]):\n",
    "        df[column].plot(kind = 'hist')\n",
    "    elif is_string_dtype(df[column]):\n",
    " # show only the TOP 10 value count in each categorical data\n",
    "        df[column].value_counts()[:10].plot(kind = 'bar')"
   ]
  },
  {
   "cell_type": "code",
   "execution_count": null,
   "id": "46a8985d-b288-4e58-8de7-035e96b1c444",
   "metadata": {
    "scrolled": true,
    "tags": []
   },
   "outputs": [],
   "source": [
    "### 4. Multivariate Analysis ###\n",
    "\n",
    "# correation matrix and heatmap\n",
    "correlation = df.corr()\n",
    "sns.heatmap(correlation, cmap = \"GnBu\", annot = True)\n",
    "\n",
    "# pairplot\n",
    "sns.pairplot(df,height = 2.5)\n",
    "\n",
    "# grouped bar chart\n",
    "for i in range(0, len(cat_list)):\n",
    "    primary_cat = cat_list[i]\n",
    "    for j in range(0, len(cat_list)):\n",
    "        secondary_cat = cat_list[j]\n",
    "    if secondary_cat != primary_cat:\n",
    "            plt.figure (figsize = (5,5))\n",
    "            chart = sns.countplot(\n",
    "                data = df,\n",
    "                x= primary_cat, \n",
    "                hue= secondary_cat,\n",
    "                palette = 'GnBu',\n",
    "                order=df[primary_cat].value_counts(normalize=True).iloc[:10].index #show only TOP10\n",
    "              )"
   ]
  },
  {
   "cell_type": "code",
   "execution_count": null,
   "id": "ed9ffacb-c31e-44eb-bd6e-1094ad7b9986",
   "metadata": {},
   "outputs": [],
   "source": [
    "# pairplot with hue\n",
    "for i in range(0, len(cat_list)):\n",
    "    hue_cat = cat_list[i]\n",
    "    sns.pairplot(df, hue = hue_cat)\n",
    "\n",
    "# box plot\n",
    "for i in range(0, len(cat_list)):\n",
    "    cat = cat_list[i]\n",
    "    for j in range(0, len(num_list)):\n",
    "        num = num_list[j]\n",
    "        plt.figure (figsize = (15,15))\n",
    "        sns.boxplot( x = cat, y = num, data = df, palette = \"GnBu\")"
   ]
  },
  {
   "cell_type": "code",
   "execution_count": null,
   "id": "528bda10-eae3-4324-8d0f-9e50ccef4da9",
   "metadata": {},
   "outputs": [],
   "source": [
    "x, y, hue = \"InternetService\", \"proportion\", \"Churn\"\n",
    "#hue_order = [\"Male\", \"Female\"]\n",
    "\n",
    "(df[x]\n",
    " .groupby(df[hue])\n",
    " .value_counts(normalize=True)\n",
    " .rename(y)\n",
    " .reset_index()\n",
    " .pipe((sns.barplot, \"data\"), x=x, y=y, hue=hue))"
   ]
  },
  {
   "cell_type": "code",
   "execution_count": null,
   "id": "6271de9f-b491-4eed-b3c8-9ac8438add5a",
   "metadata": {},
   "outputs": [],
   "source": [
    "df.columns "
   ]
  },
  {
   "cell_type": "code",
   "execution_count": null,
   "id": "39446c3e-f78a-40de-bd34-cd5a4fc63ad7",
   "metadata": {},
   "outputs": [],
   "source": [
    "x,y= \"Churn\",\"proportion\"\n",
    "for i in range(len(df.columns.drop(['tenuregroup']))):\n",
    "    hue= df.columns.drop(['Churn'])[i]\n",
    "    (df[x]\n",
    "         .groupby(df[hue])\n",
    "         .value_counts() #normalize=True\n",
    "         .rename(y)\n",
    "         .reset_index()\n",
    "         .pipe((sns.barplot, \"data\"), x=x, y=y, hue=hue))\n",
    "    plt.show()"
   ]
  },
  {
   "cell_type": "code",
   "execution_count": null,
   "id": "6cfcf91a-e134-4361-b613-588314372802",
   "metadata": {},
   "outputs": [],
   "source": [
    "y, hue = \"proportion\", \"Churn\"\n",
    "for i in range(len(df.columns.drop(['Churn']))):\n",
    "    x= df.columns.drop(['Churn'])[i]\n",
    "    (df[x]\n",
    "         .groupby(df[hue])\n",
    "         .value_counts(normalize=True)\n",
    "         .rename(y)\n",
    "         .reset_index()\n",
    "         .pipe((sns.barplot, \"data\"), x=x, y=y, hue=hue,palette=[\"m\", \"g\"] ))         \n",
    "    plt.show()"
   ]
  },
  {
   "cell_type": "code",
   "execution_count": null,
   "id": "69bfcf84-2164-4935-a993-d3a3cb3cb5da",
   "metadata": {},
   "outputs": [],
   "source": [
    "for i in range(0, len(cat_list)):\n",
    "    hue_cat = cat_list[i]\n",
    "    sns.pairplot(df, hue = hue_cat)"
   ]
  },
  {
   "cell_type": "code",
   "execution_count": null,
   "id": "e43981a6-cd58-49c4-8983-2eb94e58fe02",
   "metadata": {},
   "outputs": [],
   "source": [
    "sns.pairplot(df,hue= 'Churn')"
   ]
  }
 ],
 "metadata": {
  "kernelspec": {
   "display_name": "Python 3 (ipykernel)",
   "language": "python",
   "name": "python3"
  },
  "language_info": {
   "codemirror_mode": {
    "name": "ipython",
    "version": 3
   },
   "file_extension": ".py",
   "mimetype": "text/x-python",
   "name": "python",
   "nbconvert_exporter": "python",
   "pygments_lexer": "ipython3",
   "version": "3.8.8"
  }
 },
 "nbformat": 4,
 "nbformat_minor": 5
}
